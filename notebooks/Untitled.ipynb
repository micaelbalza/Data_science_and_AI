{
 "cells": [
  {
   "cell_type": "markdown",
   "id": "d0c86f1f-6b31-4005-897b-466a6b873e07",
   "metadata": {},
   "source": [
    "# Machine Learning - Supervised Learning - Classification Problem\n",
    "## Convolutional Neural Network (CNN) - Image classification\n",
    "\n",
    "This example uses CNNs to classify diseases in potatoes.\n",
    "\n",
    "\n",
    "### Dataset:\n",
    "The dataset (link) was retrieved from Kaggle on (02/07/2024).\n",
    "The dataset consists of 7 classes, with 6 different types of potato diseases and one class containing healthy potatoes.\n",
    "\n",
    "The classes are:\n",
    "\n",
    "    Bleckleg (60 images);\n",
    "    Black Scurf (58 images)\n",
    "    Common Scab (62 images)\n",
    "    Dry Rot (60 images);\n",
    "    Healthy Potatoes (80 images);\n",
    "    Miscellaneous (74 images);\n",
    "    Pink Rot (57 images)\n",
    "\n",
    "Total images: 451\n",
    "\n",
    "Image characteristics:\n",
    "Format: JPEG\n",
    "Dimensions: 224x224\n",
    "Color image (RGB)\n",
    "\n",
    "### Tools and solutions used:\n",
    "\n",
    "Solutions:\n",
    "\n",
    "Tools:"
   ]
  },
  {
   "cell_type": "code",
   "execution_count": null,
   "id": "67905bfa-34da-4ea5-beb2-8613ca52e60d",
   "metadata": {},
   "outputs": [],
   "source": []
  },
  {
   "cell_type": "code",
   "execution_count": 1,
   "id": "6ae8a459-7d86-4e23-b4e6-51d0e510023e",
   "metadata": {},
   "outputs": [
    {
     "ename": "ModuleNotFoundError",
     "evalue": "No module named 'tensorflow'",
     "output_type": "error",
     "traceback": [
      "\u001b[0;31m---------------------------------------------------------------------------\u001b[0m",
      "\u001b[0;31mModuleNotFoundError\u001b[0m                       Traceback (most recent call last)",
      "Cell \u001b[0;32mIn[1], line 3\u001b[0m\n\u001b[1;32m      1\u001b[0m \u001b[38;5;66;03m#importing dependencies\u001b[39;00m\n\u001b[1;32m      2\u001b[0m \u001b[38;5;28;01mimport\u001b[39;00m \u001b[38;5;21;01mpandas\u001b[39;00m \u001b[38;5;28;01mas\u001b[39;00m \u001b[38;5;21;01mpd\u001b[39;00m\n\u001b[0;32m----> 3\u001b[0m \u001b[38;5;28;01mimport\u001b[39;00m \u001b[38;5;21;01mtensorflow\u001b[39;00m \u001b[38;5;28;01mas\u001b[39;00m \u001b[38;5;21;01mtf\u001b[39;00m\n\u001b[1;32m      4\u001b[0m \u001b[38;5;28;01mimport\u001b[39;00m \u001b[38;5;21;01mnumpy\u001b[39;00m \u001b[38;5;28;01mas\u001b[39;00m \u001b[38;5;21;01mnp\u001b[39;00m\n\u001b[1;32m      6\u001b[0m \u001b[38;5;28;01mimport\u001b[39;00m \u001b[38;5;21;01mmatplotlib\u001b[39;00m\u001b[38;5;21;01m.\u001b[39;00m\u001b[38;5;21;01mpyplot\u001b[39;00m \u001b[38;5;28;01mas\u001b[39;00m \u001b[38;5;21;01mplt\u001b[39;00m\n",
      "\u001b[0;31mModuleNotFoundError\u001b[0m: No module named 'tensorflow'"
     ]
    }
   ],
   "source": [
    "#importing dependencies\n",
    "import pandas as pd\n",
    "import tensorflow as tf\n",
    "import numpy as np\n",
    "\n",
    "import matplotlib.pyplot as plt"
   ]
  },
  {
   "cell_type": "code",
   "execution_count": null,
   "id": "3a6511e8-e705-44c3-ad6a-5f61028a03d8",
   "metadata": {},
   "outputs": [],
   "source": []
  }
 ],
 "metadata": {
  "kernelspec": {
   "display_name": "Python 3 (ipykernel)",
   "language": "python",
   "name": "python3"
  },
  "language_info": {
   "codemirror_mode": {
    "name": "ipython",
    "version": 3
   },
   "file_extension": ".py",
   "mimetype": "text/x-python",
   "name": "python",
   "nbconvert_exporter": "python",
   "pygments_lexer": "ipython3",
   "version": "3.10.12"
  }
 },
 "nbformat": 4,
 "nbformat_minor": 5
}
